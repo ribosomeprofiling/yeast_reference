{
 "cells": [
  {
   "cell_type": "markdown",
   "id": "3ad5f7f2",
   "metadata": {},
   "source": [
    "# Yeast Reference for RiboFlow\n",
    "\n",
    "We prepare references for riboflow for the yeast genome.\n",
    "We already have the CDS, 5' UTR and 3' UTR sequences.\n",
    "We merge these sequences to assemble a transcriptome for yeast.\n",
    "We observed that there may be more than 1 UTR sequence for the same transcript. So we picked one UTR sequence randomly. In total we obtained ~5000 transcript sequences.\n",
    "\n",
    "We also assume that the start codon belongs to CDS whereas the stop codon belongs to 3' UTR. So we adjusted the CDS ends by -3 in ther method `produce_region_entries`.\n",
    "\n",
    "Sequences are obtained from [https://www.yeastgenome.org/](https://www.yeastgenome.org/) around March 14, 2022."
   ]
  },
  {
   "cell_type": "code",
   "execution_count": 1,
   "id": "8a6c652e",
   "metadata": {},
   "outputs": [
    {
     "data": {
      "text/html": [
       "\n",
       "<style>\n",
       ".output_png {\n",
       "    display: table-cell;\n",
       "    text-align: center;\n",
       "    vertical-align: middle;\n",
       "}\n",
       "</style>\n"
      ],
      "text/plain": [
       "<IPython.core.display.HTML object>"
      ]
     },
     "execution_count": 1,
     "metadata": {},
     "output_type": "execute_result"
    }
   ],
   "source": [
    "import sys\n",
    "import os\n",
    "from collections import defaultdict\n",
    "import gzip\n",
    "\n",
    "%matplotlib inline\n",
    "\n",
    "import IPython\n",
    "\n",
    "# Some formatting forthe rest of the notebook\n",
    "from IPython.core.display import HTML\n",
    "HTML(\"\"\"\n",
    "<style>\n",
    ".output_png {\n",
    "    display: table-cell;\n",
    "    text-align: center;\n",
    "    vertical-align: middle;\n",
    "}\n",
    "</style>\n",
    "\"\"\")"
   ]
  },
  {
   "cell_type": "code",
   "execution_count": 2,
   "id": "179de446",
   "metadata": {},
   "outputs": [],
   "source": [
    "sys.path.insert(0, './')\n",
    "import ref_lib\n",
    "from ref_lib.Fasta import FastaFile, FastaEntry\n",
    "from ref_lib.GTF import GTFfile, GTFEntry, get_gtf_contents\n"
   ]
  },
  {
   "cell_type": "code",
   "execution_count": 3,
   "id": "2778cf07",
   "metadata": {},
   "outputs": [],
   "source": [
    "cds_fasta_file = \"../raw_sequences/orf_coding.fa.gz\"\n",
    "three_p_file   = \"../raw_sequences/SGD_all_ORFs_3prime_UTRs.fa.gz\" \n",
    "five_p_file    = \"../raw_sequences/SGD_all_ORFs_5prime_UTRs.fa.gz\""
   ]
  },
  {
   "cell_type": "code",
   "execution_count": null,
   "id": "ac5a2483",
   "metadata": {},
   "outputs": [],
   "source": []
  },
  {
   "cell_type": "code",
   "execution_count": 4,
   "id": "7667266b",
   "metadata": {},
   "outputs": [],
   "source": [
    "cds_handle        = FastaFile(cds_fasta_file)\n",
    "cds_sequence_dict = {e.header : e.sequence for e in cds_handle}\n",
    "\n",
    "three_p_utr_handle = FastaFile(three_p_file)\n",
    "three_p_dict_pre   = {e.header : e.sequence for e in three_p_utr_handle}\n",
    "\n",
    "five_p_utr_handle = FastaFile(five_p_file)\n",
    "five_p_dict_pre   = {e.header : e.sequence for e in five_p_utr_handle}\n"
   ]
  },
  {
   "cell_type": "code",
   "execution_count": 5,
   "id": "5bda73b7",
   "metadata": {},
   "outputs": [],
   "source": [
    "def get_utr_gene_name(x):\n",
    "    return x.split(\"_\")[4]\n",
    "\n",
    "assert( get_utr_gene_name('sacCer3_ct_Pelechanoonlybased3primeUTRs_3950_YGL227W_id001_three_prime_UTR') == 'YGL227W' )"
   ]
  },
  {
   "cell_type": "code",
   "execution_count": 6,
   "id": "f956b4f9",
   "metadata": {},
   "outputs": [],
   "source": [
    "three_p_dict = dict( zip( map(get_utr_gene_name, three_p_dict_pre.keys()) , three_p_dict_pre.values() ) )\n",
    "five_p_dict  = dict( zip( map(get_utr_gene_name, five_p_dict_pre.keys()), five_p_dict_pre.values() )) "
   ]
  },
  {
   "cell_type": "code",
   "execution_count": null,
   "id": "354b5802",
   "metadata": {},
   "outputs": [],
   "source": []
  },
  {
   "cell_type": "code",
   "execution_count": null,
   "id": "ae573614",
   "metadata": {},
   "outputs": [],
   "source": []
  },
  {
   "cell_type": "code",
   "execution_count": null,
   "id": "f14470c8",
   "metadata": {},
   "outputs": [],
   "source": []
  },
  {
   "cell_type": "code",
   "execution_count": 7,
   "id": "773cdcc6",
   "metadata": {},
   "outputs": [
    {
     "name": "stdout",
     "output_type": "stream",
     "text": [
      "There are \n",
      "9723 5p UTR and\n",
      "9723 3p UTR sequences in the raw files.\n"
     ]
    }
   ],
   "source": [
    "print(\"There are \\n{} 5p UTR and\\n{} 3p UTR sequences in the raw files.\".format( len(five_p_dict_pre), len(three_p_dict_pre) ))"
   ]
  },
  {
   "cell_type": "code",
   "execution_count": null,
   "id": "9e63e6a4",
   "metadata": {},
   "outputs": [],
   "source": []
  },
  {
   "cell_type": "code",
   "execution_count": 8,
   "id": "41de9ff1",
   "metadata": {},
   "outputs": [
    {
     "name": "stdout",
     "output_type": "stream",
     "text": [
      "There are 6034 ORF\n",
      "5211 5p UTR and\n",
      "5211 3p UTR sequences.\n"
     ]
    }
   ],
   "source": [
    "print(\"There are {} ORF\\n{} 5p UTR and\\n{} 3p UTR sequences.\".format(len(cds_sequence_dict), len(five_p_dict), len(five_p_dict) ) )"
   ]
  },
  {
   "cell_type": "code",
   "execution_count": 9,
   "id": "1b20917d",
   "metadata": {},
   "outputs": [
    {
     "name": "stdout",
     "output_type": "stream",
     "text": [
      "There are 5211 genes in the intersection of 3p and 5p sequence genes.\n"
     ]
    }
   ],
   "source": [
    "common_utr_genes = set(three_p_dict.keys()).intersection( set(five_p_dict.keys()) )\n",
    "print(\"There are {} genes in the intersection of 3p and 5p sequence genes.\".format(len(common_utr_genes)) )"
   ]
  },
  {
   "cell_type": "code",
   "execution_count": 10,
   "id": "696b1a58",
   "metadata": {},
   "outputs": [
    {
     "name": "stdout",
     "output_type": "stream",
     "text": [
      "5024 is the number of genes in the intersection of CDS and UTR sequences.\n"
     ]
    }
   ],
   "source": [
    "common_cds_and_utr_genes = set(three_p_dict.keys()).intersection( set(cds_sequence_dict.keys()) )\n",
    "print(\"{} is the number of genes in the intersection of CDS and UTR sequences.\".format(len(common_cds_and_utr_genes)))"
   ]
  },
  {
   "cell_type": "code",
   "execution_count": null,
   "id": "f52ee8f5",
   "metadata": {},
   "outputs": [],
   "source": []
  },
  {
   "cell_type": "markdown",
   "id": "859cf63e",
   "metadata": {},
   "source": [
    "The difference between the raw and processed headers is because somegenes have more than one UTR annotation. Below is an example:"
   ]
  },
  {
   "cell_type": "code",
   "execution_count": null,
   "id": "ca8630b6",
   "metadata": {},
   "outputs": [],
   "source": []
  },
  {
   "cell_type": "code",
   "execution_count": 11,
   "id": "66981166",
   "metadata": {},
   "outputs": [
    {
     "data": {
      "text/plain": [
       "'AGCTCACGCACTATACTACGCAACATTACATGATTTCAGTTTCTATTATTGAATGAACAGGATTTTTCCACGTGGATTGGGCAGCGCACTGTACCATAATAACAACCAGTTATAAAATATTTCAATTCTTTTACATATATAAAAATACATAAAGACTATTATTTTTGTAAGATGGCCCATTCTGTAACACTTAAATTTCTTATCAAAAAAAAAAAAAATAATACCTTTAGTAGCTGTTGGGCTAATAACATTGCAAATTAGAAGCTTACTATTAGAAGCTTACTATT'"
      ]
     },
     "execution_count": 11,
     "metadata": {},
     "output_type": "execute_result"
    }
   ],
   "source": [
    "three_p_dict_pre[\"sacCer3_ct_Pelechanoonlybased3primeUTRs_3950_YAL025C_id001_three_prime_UTR\"]"
   ]
  },
  {
   "cell_type": "code",
   "execution_count": 12,
   "id": "d0e8d606",
   "metadata": {},
   "outputs": [
    {
     "data": {
      "text/plain": [
       "'AGCTCACGCACTATACTACGCAACATTACATGATTTCAGTTTCTATTATTGAATGAACAGGATTTTTCCACGTGGATTGGGCAGCGCACTGTACCATAATAACAACCAGTTATAAAATATTTCAATTCTTTTACATATATAAAAATACATAAAGACTATTATTTTTGTAAGATGGCCCATTCTGTAACACTTAAATTTCTTATCAAAAAAAAAAAAAATAATACCTTTAGTAGCTGTTGGGCTAATAACATTGCAAATTAGAAGCTTACTATTAGAAGCTT'"
      ]
     },
     "execution_count": 12,
     "metadata": {},
     "output_type": "execute_result"
    }
   ],
   "source": [
    "three_p_dict_pre[\"sacCer3_ct_Pelechanoonlybased3primeUTRs_3950_YAL025C_id002_three_prime_UTR\"]"
   ]
  },
  {
   "cell_type": "code",
   "execution_count": 13,
   "id": "010d6dfb",
   "metadata": {},
   "outputs": [
    {
     "name": "stdout",
     "output_type": "stream",
     "text": [
      "mygene\t0\t4\tUTR5\t0\t+\n",
      "mygene\t4\t10\tCDS\t0\t+\n",
      "mygene\t10\t17\tUTR3\t0\t+ \n",
      " mygene\t0\t4\tUTR5\t0\t+\n",
      "mygene\t4\t10\tCDS\t0\t+\n",
      "mygene\t10\t17\tUTR3\t0\t+\n"
     ]
    }
   ],
   "source": [
    "def make_bed_unit_entry(gene, start, end, region):\n",
    "    return \"{gene}\\t{start}\\t{end}\\t{region}\\t0\\t+\".format(gene=gene, start = start, end = end, region = region)\n",
    "\n",
    "\n",
    "def produce_region_entries(gene, fivep_sequence, cds_sequence, threep_sequence):\n",
    "    \n",
    "    five_p_start_position = 0\n",
    "    five_p_end_position   = len(fivep_sequence)\n",
    "    \n",
    "    # Stop codon belongs to 3' UTR not the CDS\n",
    "    # So we have -3 below.\n",
    "    cds_start_position = five_p_end_position\n",
    "    cds_end_position   = cds_start_position + len(cds_sequence) - 3\n",
    "    \n",
    "    threep_utr_start_position = cds_end_position\n",
    "    threep_utr_end_position = threep_utr_start_position + len(threep_sequence) + 3\n",
    "    \n",
    "    five_p_entry = make_bed_unit_entry(gene, five_p_start_position, five_p_end_position, \"UTR5\")\n",
    "    cds_entry    = make_bed_unit_entry(gene, cds_start_position, cds_end_position, \"CDS\")\n",
    "    threep_entry = make_bed_unit_entry(gene, threep_utr_start_position, threep_utr_end_position, \"UTR3\")\n",
    "    \n",
    "    return five_p_entry + \"\\n\" + cds_entry + \"\\n\" + threep_entry\n",
    "\n",
    "\n",
    "obtained_result = produce_region_entries(\"mygene\", \"AGGC\", \"AGTCCCTAG\", \"CCCC\")\n",
    "\n",
    "expected_result  = \"mygene\\t0\\t4\\tUTR5\\t0\\t+\\n\"\n",
    "expected_result += \"mygene\\t4\\t10\\tCDS\\t0\\t+\\n\"\n",
    "expected_result += \"mygene\\t10\\t17\\tUTR3\\t0\\t+\"\n",
    "\n",
    "print(obtained_result,\"\\n\", expected_result)\n",
    "\n",
    "assert(obtained_result == expected_result)"
   ]
  },
  {
   "cell_type": "code",
   "execution_count": 14,
   "id": "4c5112fb",
   "metadata": {},
   "outputs": [],
   "source": [
    "regions_file       = \"../reference/yeast_regions.bed\"\n",
    "transcritpome_file = \"../reference/yeast_transcriptome.fa.gz\"\n",
    "transcript_lengths = \"../reference/yeast_lengths.tsv\"\n",
    "\n",
    "with open(regions_file, \"wt\") as region_handle,\\\n",
    "     gzip.open(transcritpome_file ,\"wt\") as transcriptome_handle,\\\n",
    "     open(transcript_lengths, \"wt\") as length_handle:\n",
    "    \n",
    "    for g in cds_sequence_dict.keys():\n",
    "        if g not in five_p_dict.keys():\n",
    "            continue\n",
    "        transcript_sequence = five_p_dict[g] + cds_sequence_dict[g] + three_p_dict[g]\n",
    "        this_entry          = FastaEntry(g, transcript_sequence)\n",
    "        \n",
    "        print(this_entry , file = transcriptome_handle )\n",
    "    \n",
    "        transcript_len_entry = \"{}\\t{}\".format( g, len(transcript_sequence) )\n",
    "        print(transcript_len_entry, file = length_handle)\n",
    "        \n",
    "        \n",
    "        region_entry = produce_region_entries(g, five_p_dict[g], cds_sequence_dict[g], three_p_dict[g])\n",
    "        \n",
    "        print(region_entry, file = region_handle)"
   ]
  },
  {
   "cell_type": "code",
   "execution_count": null,
   "id": "57c82aa5",
   "metadata": {},
   "outputs": [],
   "source": []
  },
  {
   "cell_type": "code",
   "execution_count": null,
   "id": "9f24c52b",
   "metadata": {},
   "outputs": [],
   "source": []
  }
 ],
 "metadata": {
  "kernelspec": {
   "display_name": "Python 3",
   "language": "python",
   "name": "python3"
  },
  "language_info": {
   "codemirror_mode": {
    "name": "ipython",
    "version": 3
   },
   "file_extension": ".py",
   "mimetype": "text/x-python",
   "name": "python",
   "nbconvert_exporter": "python",
   "pygments_lexer": "ipython3",
   "version": "3.6.13"
  }
 },
 "nbformat": 4,
 "nbformat_minor": 5
}
